{
 "cells": [
  {
   "cell_type": "code",
   "execution_count": 1,
   "metadata": {},
   "outputs": [],
   "source": [
    "import django\n",
    "django.setup()\n",
    "from django.db.models import Sum\n",
    "from django.template.defaultfilters import filesizeformat\n",
    "from pdata_app.models import DataFile, VariableRequest"
   ]
  },
  {
   "cell_type": "code",
   "execution_count": 2,
   "metadata": {},
   "outputs": [],
   "source": [
    "mohc_tracking_vars = [\n",
    "    ('3hr', 'rsdsdiff'),\n",
    "    ('3hr', 'rsds'),\n",
    "    ('3hr', 'tas'),\n",
    "    ('3hr', 'uas'),\n",
    "    ('3hr', 'vas'),\n",
    "    ('Prim3hrPt', 'ua50m'),\n",
    "    ('Prim3hrPt', 'va50m'),\n",
    "    ('Prim3hrPt', 'ua100m'),\n",
    "    ('Prim3hrPt', 'va100m'),\n",
    "    ('E3hrPt', 'ua7h'),\n",
    "    ('E3hrPt', 'va7h'),\n",
    "    ('Prim3hr', 'sfcWind'),\n",
    "    ('Prim3hr', 'sfcWindmax'),\n",
    "    ('Prim6hr', 'wsgmax'),\n",
    "    ('3hr', 'pr'),\n",
    "    ('E3hr', 'psl'),\n",
    "    ('Prim3hrPt', 'zg7h')\n",
    "]\n",
    "mohc_tracking_vreqs = [VariableRequest.objects.get(table_name=table, cmor_name=cmor) \n",
    "                       for table, cmor in mohc_tracking_vars]"
   ]
  },
  {
   "cell_type": "code",
   "execution_count": 3,
   "metadata": {},
   "outputs": [
    {
     "name": "stdout",
     "output_type": "stream",
     "text": [
      "Sub-daily 8.6 TB\n",
      "Daily (excl. CFday) 8.6 TB\n",
      "Monthly 1.4 TB\n",
      "Stream 2 total 18.6 TB\n",
      "\n",
      "Stream 1 total 47.0 TB\n"
     ]
    }
   ],
   "source": [
    "model_common = {\n",
    "    'data_request__climate_model__short_name': 'HadGEM3-GC31-HM',\n",
    "    'data_request__experiment__short_name': 'highresSST-present',\n",
    "    'data_request__rip_code': 'r1i1p1f1'\n",
    "}\n",
    "sub_daily = DataFile.objects.filter(\n",
    "    data_request__variable_request__in=mohc_tracking_vreqs,\n",
    "    **model_common\n",
    ").distinct()\n",
    "daily = DataFile.objects.filter(\n",
    "    data_request__variable_request__table_name__contains='day',\n",
    "    **model_common\n",
    ").exclude(data_request__variable_request__table_name='CFday').distinct()\n",
    "monthly = DataFile.objects.filter(\n",
    "    data_request__variable_request__table_name__contains='mon',\n",
    "    **model_common\n",
    ").distinct()\n",
    "stream2_hm_amip = sub_daily | daily | monthly\n",
    "\n",
    "stream1_all = DataFile.objects.filter(\n",
    "    **model_common\n",
    ").distinct()\n",
    "\n",
    "print(f\"Sub-daily {filesizeformat(sub_daily.aggregate(Sum('size'))['size__sum'])}\")\n",
    "print(f\"Daily (excl. CFday) {filesizeformat(daily.aggregate(Sum('size'))['size__sum'])}\")\n",
    "print(f\"Monthly {filesizeformat(monthly.aggregate(Sum('size'))['size__sum'])}\")\n",
    "print(f\"Stream 2 total {filesizeformat(stream2_hm_amip.aggregate(Sum('size'))['size__sum'])}\")\n",
    "print()\n",
    "print(f\"Stream 1 total {filesizeformat(stream1_all.aggregate(Sum('size'))['size__sum'])}\")\n",
    "      "
   ]
  },
  {
   "cell_type": "code",
   "execution_count": 4,
   "metadata": {},
   "outputs": [],
   "source": [
    "cerfacs_tracking_vars = [\n",
    "    ('3hr', 'rsdsdiff'),\n",
    "    ('3hr', 'rsds'),\n",
    "    ('3hr', 'tas'),\n",
    "    ('3hr', 'uas'),\n",
    "    ('3hr', 'vas'),\n",
    "    ('Prim3hrPt', 'ua50m'),\n",
    "    ('Prim3hrPt', 'va50m'),\n",
    "    ('Prim3hrPt', 'ua100m'),\n",
    "    ('Prim3hrPt', 'va100m'),\n",
    "    ('6hrPlevPt', 'ua7h'),\n",
    "    ('6hrPlevPt', 'va7h'),\n",
    "    ('Prim3hr', 'sfcWind'),\n",
    "    ('Prim3hr', 'sfcWindmax'),\n",
    "    ('Prim6hr', 'wsgmax'),\n",
    "    ('3hr', 'pr'),\n",
    "    ('E3hr', 'psl'),\n",
    "    ('Prim3hrPt', 'zg7h')\n",
    "]\n",
    "cerfacs_tracking_vreqs = [VariableRequest.objects.get(table_name=table, cmor_name=cmor) \n",
    "                       for table, cmor in cerfacs_tracking_vars]"
   ]
  },
  {
   "cell_type": "code",
   "execution_count": 5,
   "metadata": {},
   "outputs": [
    {
     "name": "stdout",
     "output_type": "stream",
     "text": [
      "Sub-daily 1.4 TB\n",
      "Daily (excl. CFday) 3.0 TB\n",
      "Monthly 1.4 TB\n",
      "Stream 2 total 5.8 TB\n",
      "\n",
      "Stream 1 total 15.8 TB\n"
     ]
    }
   ],
   "source": [
    "model_common = {\n",
    "    'data_request__climate_model__short_name': 'CNRM-CM6-1-HR',\n",
    "    'data_request__experiment__short_name': 'highresSST-present',\n",
    "    'data_request__rip_code': 'r1i1p1f2'\n",
    "}\n",
    "sub_daily = DataFile.objects.filter(\n",
    "    data_request__variable_request__in=mohc_tracking_vreqs,\n",
    "    **model_common\n",
    ").distinct()\n",
    "daily = DataFile.objects.filter(\n",
    "    data_request__variable_request__table_name__contains='day',\n",
    "    **model_common\n",
    ").exclude(data_request__variable_request__table_name='CFday').distinct()\n",
    "monthly = DataFile.objects.filter(\n",
    "    data_request__variable_request__table_name__contains='mon',\n",
    "    **model_common\n",
    ").distinct()\n",
    "stream2_hm_amip = sub_daily | daily | monthly\n",
    "\n",
    "stream1_all = DataFile.objects.filter(\n",
    "    **model_common\n",
    ").distinct()\n",
    "\n",
    "print(f\"Sub-daily {filesizeformat(sub_daily.aggregate(Sum('size'))['size__sum'])}\")\n",
    "print(f\"Daily (excl. CFday) {filesizeformat(daily.aggregate(Sum('size'))['size__sum'])}\")\n",
    "print(f\"Monthly {filesizeformat(monthly.aggregate(Sum('size'))['size__sum'])}\")\n",
    "print(f\"Stream 2 total {filesizeformat(stream2_hm_amip.aggregate(Sum('size'))['size__sum'])}\")\n",
    "print()\n",
    "print(f\"Stream 1 total {filesizeformat(stream1_all.aggregate(Sum('size'))['size__sum'])}\")\n",
    "      "
   ]
  },
  {
   "cell_type": "code",
   "execution_count": 6,
   "metadata": {},
   "outputs": [],
   "source": [
    "ec_earth_tracking_vars = [\n",
    "    ('3hr', 'rsdsdiff'),\n",
    "    ('3hr', 'rsds'),\n",
    "    ('3hr', 'tas'),\n",
    "    ('3hr', 'uas'),\n",
    "    ('3hr', 'vas'),\n",
    "    ('Prim3hrPt', 'ua50m'),\n",
    "    ('Prim3hrPt', 'va50m'),\n",
    "    ('Prim3hrPt', 'ua100m'),\n",
    "    ('Prim3hrPt', 'va100m'),\n",
    "    ('6hrPlevPt', 'ua7h'),\n",
    "    ('6hrPlevPt', 'va7h'),\n",
    "    ('Prim3hr', 'sfcWind'),\n",
    "    ('Prim3hr', 'sfcWindmax'),\n",
    "    ('Prim6hr', 'wsgmax'),\n",
    "    ('3hr', 'pr'),\n",
    "    ('6hrPlev', 'psl'),\n",
    "    ('6hrPlevPt', 'zg7h')\n",
    "]\n",
    "ec_earth_tracking_vreqs = [VariableRequest.objects.get(table_name=table, cmor_name=cmor) \n",
    "                       for table, cmor in ec_earth_tracking_vars]"
   ]
  },
  {
   "cell_type": "code",
   "execution_count": 7,
   "metadata": {},
   "outputs": [
    {
     "name": "stdout",
     "output_type": "stream",
     "text": [
      "Sub-daily 2.2 TB\n",
      "Daily (excl. CFday) 10.8 TB\n",
      "Monthly 3.0 TB\n",
      "Stream 2 total 15.9 TB\n",
      "\n",
      "Stream 1 total 73.2 TB\n"
     ]
    }
   ],
   "source": [
    "model_common = {\n",
    "    'data_request__climate_model__short_name': 'EC-Earth3-HR',\n",
    "    'data_request__experiment__short_name': 'highresSST-present',\n",
    "    'data_request__rip_code': 'r1i1p1f1'\n",
    "}\n",
    "sub_daily = DataFile.objects.filter(\n",
    "    data_request__variable_request__in=mohc_tracking_vreqs,\n",
    "    **model_common\n",
    ").distinct()\n",
    "daily = DataFile.objects.filter(\n",
    "    data_request__variable_request__table_name__contains='day',\n",
    "    **model_common\n",
    ").exclude(data_request__variable_request__table_name='CFday').distinct()\n",
    "monthly = DataFile.objects.filter(\n",
    "    data_request__variable_request__table_name__contains='mon',\n",
    "    **model_common\n",
    ").distinct()\n",
    "stream2_hm_amip = sub_daily | daily | monthly\n",
    "\n",
    "stream1_all = DataFile.objects.filter(\n",
    "    **model_common\n",
    ").distinct()\n",
    "\n",
    "print(f\"Sub-daily {filesizeformat(sub_daily.aggregate(Sum('size'))['size__sum'])}\")\n",
    "print(f\"Daily (excl. CFday) {filesizeformat(daily.aggregate(Sum('size'))['size__sum'])}\")\n",
    "print(f\"Monthly {filesizeformat(monthly.aggregate(Sum('size'))['size__sum'])}\")\n",
    "print(f\"Stream 2 total {filesizeformat(stream2_hm_amip.aggregate(Sum('size'))['size__sum'])}\")\n",
    "print()\n",
    "print(f\"Stream 1 total {filesizeformat(stream1_all.aggregate(Sum('size'))['size__sum'])}\")\n",
    "      "
   ]
  },
  {
   "cell_type": "code",
   "execution_count": null,
   "metadata": {},
   "outputs": [],
   "source": []
  }
 ],
 "metadata": {
  "kernelspec": {
   "display_name": "Python 3",
   "language": "python",
   "name": "python3"
  },
  "language_info": {
   "codemirror_mode": {
    "name": "ipython",
    "version": 3
   },
   "file_extension": ".py",
   "mimetype": "text/x-python",
   "name": "python",
   "nbconvert_exporter": "python",
   "pygments_lexer": "ipython3",
   "version": "3.6.6"
  }
 },
 "nbformat": 4,
 "nbformat_minor": 2
}
