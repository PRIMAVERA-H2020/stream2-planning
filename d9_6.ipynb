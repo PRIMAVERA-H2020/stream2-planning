{
 "cells": [
  {
   "cell_type": "markdown",
   "metadata": {},
   "source": [
    "(C) Crown Copyright, Met Office. All rights reserved."
   ]
  },
  {
   "cell_type": "markdown",
   "metadata": {},
   "source": [
    "Identfiy the Stream 1 and 2 data in the DMT and calculate the proportion of data that had been retrieved in terms of the number of datasets and the storage space."
   ]
  },
  {
   "cell_type": "code",
   "execution_count": 1,
   "metadata": {},
   "outputs": [],
   "source": [
    "import django\n",
    "django.setup()"
   ]
  },
  {
   "cell_type": "code",
   "execution_count": 2,
   "metadata": {},
   "outputs": [],
   "source": [
    "from django.db.models import Sum\n",
    "from django.template.defaultfilters import filesizeformat\n",
    "from pdata_app.models import DataFile, DataRequest, ReplacedFile, RetrievalRequest\n",
    "from pdata_app.utils.common import filter_hadgem_stream2"
   ]
  },
  {
   "cell_type": "code",
   "execution_count": 3,
   "metadata": {},
   "outputs": [],
   "source": [
    "def volume_from_dreqs(dreqs):\n",
    "    \"\"\"\n",
    "    From a queryset of pdata_app.DataRequest objects return the volume in bytes\n",
    "    that their files require to store.\n",
    "\n",
    "    :param django.db.models.query.QuerySet queryset: the data requests\n",
    "    :returns: the volume in bytes of these data requests\n",
    "    :rtype:  int    \n",
    "    \"\"\"\n",
    "    data_vol = 0\n",
    "    for dreq in dreqs:\n",
    "        data_vol += dreq.datafile_set.aggregate(Sum('size'))['size__sum']\n",
    "        \n",
    "    return data_vol"
   ]
  },
  {
   "cell_type": "markdown",
   "metadata": {},
   "source": [
    "### Find correct Stream 1 and 2 (ignore additional HadGEM)"
   ]
  },
  {
   "cell_type": "code",
   "execution_count": 4,
   "metadata": {},
   "outputs": [],
   "source": [
    "amip_expts = ['highresSST-present', 'highresSST-future']\n",
    "coupled_expts = ['spinup-1950', 'hist-1950', 'control-1950',\n",
    "                 'highres-future']\n",
    "\n",
    "expts = amip_expts + coupled_expts\n",
    "\n",
    "# MOHC stream 2 is members r1i2p2f1 to r1i15p1f1\n",
    "mohc_stream2_members = [f'r1i{init_index}p1f1'\n",
    "                        for init_index in range(2, 16)]\n",
    "\n",
    "hadgem_s2 = filter_hadgem_stream2(DataRequest.objects.filter(\n",
    "    institute__short_name__in=['MOHC', 'NERC'],\n",
    "    experiment__short_name__in=expts,\n",
    "    rip_code__in=mohc_stream2_members,\n",
    "    datafile__isnull=False\n",
    "))\n",
    "\n",
    "others = DataRequest.objects.filter(\n",
    "    experiment__short_name__in=expts,\n",
    "    datafile__isnull=False\n",
    ").exclude(\n",
    "    # Exclude MOHC Stream 2\n",
    "    institute__short_name__in=['MOHC', 'NERC'],\n",
    "    rip_code__in=mohc_stream2_members\n",
    ").exclude(\n",
    "    # Exclude EC-Earth coupled r1i1p1f1\n",
    "    institute__short_name='EC-Earth-Consortium',\n",
    "    experiment__short_name__in=coupled_expts,\n",
    "    rip_code='r1i1p1f1'\n",
    ").distinct()\n",
    "\n",
    "stream_1_2 = hadgem_s2 | others"
   ]
  },
  {
   "cell_type": "markdown",
   "metadata": {},
   "source": [
    "### Calculate Volumes"
   ]
  },
  {
   "cell_type": "code",
   "execution_count": 5,
   "metadata": {},
   "outputs": [],
   "source": [
    "num_stream_1_2 = stream_1_2.count()\n",
    "volume_stream_1_2 = volume_from_dreqs(stream_1_2)"
   ]
  },
  {
   "cell_type": "code",
   "execution_count": 6,
   "metadata": {},
   "outputs": [
    {
     "name": "stdout",
     "output_type": "stream",
     "text": [
      "30955 data requests were uploaded consisting of 1.5 PB\n"
     ]
    }
   ],
   "source": [
    "print(f'{num_stream_1_2} data requests were uploaded consisting of '\n",
    "      f'{filesizeformat(volume_stream_1_2)}')"
   ]
  },
  {
   "cell_type": "code",
   "execution_count": 7,
   "metadata": {},
   "outputs": [],
   "source": [
    "# Ignore data restored by Jon as that was for publication rather than science\n",
    "retrieval_data_reqs = (RetrievalRequest.objects.exclude(requester__username='jseddon').\n",
    "                       values_list('data_request', flat=True).distinct())\n",
    "\n",
    "stream_1_2_restored = DataRequest.objects.filter(id__in=retrieval_data_reqs).filter(\n",
    "    experiment__short_name__in=expts,\n",
    "    datafile__isnull=False\n",
    ").distinct()"
   ]
  },
  {
   "cell_type": "code",
   "execution_count": 8,
   "metadata": {},
   "outputs": [],
   "source": [
    "num_stream_1_2_restored = stream_1_2_restored.count()\n",
    "volume_stream_1_2_restored = volume_from_dreqs(stream_1_2_restored)"
   ]
  },
  {
   "cell_type": "code",
   "execution_count": 9,
   "metadata": {},
   "outputs": [
    {
     "name": "stdout",
     "output_type": "stream",
     "text": [
      "5941 unique data requests were restored, 19.2% of the total uploaded\n",
      "417.6 TB of unique data requests were restored, 26.5% of the volume uploaded\n"
     ]
    }
   ],
   "source": [
    "print(f'{num_stream_1_2_restored} unique data requests were restored, '\n",
    "      f'{num_stream_1_2_restored / num_stream_1_2:.1%} of the total uploaded')\n",
    "print(f'{filesizeformat(volume_stream_1_2_restored)} of unique data requests '\n",
    "      f'were restored, '\n",
    "      f'{volume_stream_1_2_restored / volume_stream_1_2:.1%} of the volume uploaded')"
   ]
  }
 ],
 "metadata": {
  "kernelspec": {
   "display_name": "Python 3",
   "language": "python",
   "name": "python3"
  },
  "language_info": {
   "codemirror_mode": {
    "name": "ipython",
    "version": 3
   },
   "file_extension": ".py",
   "mimetype": "text/x-python",
   "name": "python",
   "nbconvert_exporter": "python",
   "pygments_lexer": "ipython3",
   "version": "3.6.8"
  }
 },
 "nbformat": 4,
 "nbformat_minor": 4
}
