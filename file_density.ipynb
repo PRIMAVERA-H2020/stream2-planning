{
 "cells": [
  {
   "cell_type": "markdown",
   "metadata": {},
   "source": [
    "(C) Crown Copyright, Met Office. All rights reserved."
   ]
  },
  {
   "cell_type": "markdown",
   "metadata": {},
   "source": [
    "## file_density.ipynb\n",
    "\n",
    "Look at the desnity of data in files to see how many bytes are required to store each data point."
   ]
  },
  {
   "cell_type": "code",
   "execution_count": 7,
   "metadata": {},
   "outputs": [],
   "source": [
    "import os\n",
    "import warnings\n",
    "\n",
    "import iris\n",
    "\n",
    "# Ignore warnings displayed when loading data\n",
    "warnings.filterwarnings(\"ignore\")"
   ]
  },
  {
   "cell_type": "code",
   "execution_count": 12,
   "metadata": {},
   "outputs": [],
   "source": [
    "filepaths = [\n",
    "    '/gws/nopw/j04/primavera5/stream1/CMIP6/HighResMIP/AWI/AWI-CM-1-0-LR/hist-1950/r1i1p1f002/Omon/vo/gr1/v20180212/'\n",
    "    'vo_Omon_AWI-CM-1-0-LR_hist-1950_r1i1p1f002_gr1_195101-196012.nc',\n",
    "    '/badc/cmip6/data/CMIP6/HighResMIP/CMCC/CMCC-CM2-VHR4/hist-1950/r1i1p1f1/6hrPlevPt/ta/gn/v20180705/'\n",
    "    'ta_6hrPlevPt_CMCC-CM2-VHR4_hist-1950_r1i1p1f1_gn_195001010000-195001311800.nc',\n",
    "    '/badc/cmip6/data/CMIP6/HighResMIP/CNRM-CERFACS/CNRM-CM6-1-HR/hist-1950/r1i1p1f2/6hrPlevPt/ta/gr/v20190221/'\n",
    "    'ta_6hrPlevPt_CNRM-CM6-1-HR_hist-1950_r1i1p1f2_gr_195001010600-195004010000.nc',\n",
    "        '/badc/cmip6/data/CMIP6/HighResMIP/EC-Earth-Consortium/EC-Earth3P-HR/hist-1950/r1i1p2f1/6hrPlevPt/ta/gr/v20181212/'\n",
    "    'ta_6hrPlevPt_EC-Earth3P-HR_hist-1950_r1i1p2f1_gr_195001010000-195012311800.nc',\n",
    "    '/badc/cmip6/data/CMIP6/HighResMIP/ECMWF/ECMWF-IFS-HR/hist-1950/r1i1p1f1/6hrPlevPt/ta/gr/v20170915/'\n",
    "    'ta_6hrPlevPt_ECMWF-IFS-HR_hist-1950_r1i1p1f1_gr_195001010000-195001311800.nc',\n",
    "    '/gws/nopw/j04/primavera2/stream1/CMIP6/HighResMIP/MPI-M/MPI-ESM1-2-XR/hist-1950/r1i1p1f1/6hrPlevPt/ta/gn/v20180606/'\n",
    "    'ta_6hrPlevPt_MPI-ESM1-2-XR_hist-1950_r1i1p1f1_gn_195001010558-195012312358.nc',\n",
    "    '/badc/cmip6/data/CMIP6/HighResMIP/MOHC/HadGEM3-GC31-HM/hist-1950/r1i1p1f1/E3hrPt/ta/gn/v20180730/'\n",
    "    'ta_E3hrPt_HadGEM3-GC31-HM_hist-1950_r1i1p1f1_gn_195001010300-195001302100.nc',\n",
    "]"
   ]
  },
  {
   "cell_type": "code",
   "execution_count": 13,
   "metadata": {},
   "outputs": [
    {
     "name": "stdout",
     "output_type": "stream",
     "text": [
      "vo_Omon_AWI-CM-1-0-LR_hist-1950_r1i1p1f002_gr1_195101-196012.nc 1.9 bytes/point\n",
      "ta_6hrPlevPt_CMCC-CM2-VHR4_hist-1950_r1i1p1f1_gn_195001010000-195001311800.nc 2.1 bytes/point\n",
      "ta_6hrPlevPt_CNRM-CM6-1-HR_hist-1950_r1i1p1f2_gr_195001010600-195004010000.nc 1.9 bytes/point\n",
      "ta_6hrPlevPt_EC-Earth3P-HR_hist-1950_r1i1p2f1_gr_195001010000-195012311800.nc 2.2 bytes/point\n",
      "ta_6hrPlevPt_ECMWF-IFS-HR_hist-1950_r1i1p1f1_gr_195001010000-195001311800.nc 1.5 bytes/point\n",
      "ta_6hrPlevPt_MPI-ESM1-2-XR_hist-1950_r1i1p1f1_gn_195001010558-195012312358.nc 1.5 bytes/point\n",
      "ta_E3hrPt_HadGEM3-GC31-HM_hist-1950_r1i1p1f1_gn_195001010300-195001302100.nc 1.7 bytes/point\n"
     ]
    }
   ],
   "source": [
    "for filepath in filepaths:\n",
    "    size = os.stat(filepath).st_size\n",
    "    cube = iris.load_cube(filepath)\n",
    "    dim_sizes = []\n",
    "    for dim_coord in cube.dim_coords:\n",
    "        dim_sizes.append(dim_coord.shape[0])\n",
    "    num_points = 1\n",
    "    for dim in dim_sizes:\n",
    "        num_points *= dim\n",
    "    density = size / num_points\n",
    "    print(f'{os.path.basename(filepath)} {density:.1f} bytes/point')"
   ]
  }
 ],
 "metadata": {
  "kernelspec": {
   "display_name": "Python 3",
   "language": "python",
   "name": "python3"
  },
  "language_info": {
   "codemirror_mode": {
    "name": "ipython",
    "version": 3
   },
   "file_extension": ".py",
   "mimetype": "text/x-python",
   "name": "python",
   "nbconvert_exporter": "python",
   "pygments_lexer": "ipython3",
   "version": "3.6.7"
  }
 },
 "nbformat": 4,
 "nbformat_minor": 4
}
