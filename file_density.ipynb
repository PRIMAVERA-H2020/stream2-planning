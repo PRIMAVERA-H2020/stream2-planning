{
 "cells": [
  {
   "cell_type": "markdown",
   "metadata": {},
   "source": [
    "(C) Crown Copyright, Met Office. All rights reserved."
   ]
  },
  {
   "cell_type": "markdown",
   "metadata": {},
   "source": [
    "## file_density.ipynb\n",
    "\n",
    "Look at the desnity of data in files to see how many bytes are required to store each data point."
   ]
  },
  {
   "cell_type": "code",
   "execution_count": 1,
   "metadata": {},
   "outputs": [],
   "source": [
    "import os\n",
    "import warnings\n",
    "\n",
    "import iris\n",
    "\n",
    "# Ignore warnings displayed when loading data\n",
    "warnings.filterwarnings(\"ignore\")"
   ]
  },
  {
   "cell_type": "code",
   "execution_count": 2,
   "metadata": {},
   "outputs": [],
   "source": [
    "filepaths = [\n",
    "    '/gws/nopw/j04/primavera5/stream1/CMIP6/HighResMIP/AWI/AWI-CM-1-1-HR/hist-1950/r1i1p1f2/Eday/ta/gn/v20171119/'\n",
    "    'ta_Eday_AWI-CM-1-1-HR_hist-1950_r1i1p1f2_gn_19510101-19511231.nc',\n",
    "    '/badc/cmip6/data/CMIP6/HighResMIP/CMCC/CMCC-CM2-VHR4/hist-1950/r1i1p1f1/6hrPlevPt/ta/gn/v20180705/'\n",
    "    'ta_6hrPlevPt_CMCC-CM2-VHR4_hist-1950_r1i1p1f1_gn_195001010000-195001311800.nc',\n",
    "    '/badc/cmip6/data/CMIP6/HighResMIP/CNRM-CERFACS/CNRM-CM6-1-HR/hist-1950/r1i1p1f2/6hrPlevPt/ta/gr/v20190221/'\n",
    "    'ta_6hrPlevPt_CNRM-CM6-1-HR_hist-1950_r1i1p1f2_gr_195001010600-195004010000.nc',\n",
    "    '/badc/cmip6/data/CMIP6/HighResMIP/EC-Earth-Consortium/EC-Earth3P-HR/hist-1950/r1i1p2f1/6hrPlevPt/ta/gr/v20181212/'\n",
    "    'ta_6hrPlevPt_EC-Earth3P-HR_hist-1950_r1i1p2f1_gr_195001010000-195012311800.nc',\n",
    "    '/badc/cmip6/data/CMIP6/HighResMIP/ECMWF/ECMWF-IFS-HR/hist-1950/r1i1p1f1/6hrPlevPt/ta/gr/v20170915/'\n",
    "    'ta_6hrPlevPt_ECMWF-IFS-HR_hist-1950_r1i1p1f1_gr_195001010000-195001311800.nc',\n",
    "    '/gws/nopw/j04/primavera2/stream1/CMIP6/HighResMIP/MPI-M/MPI-ESM1-2-XR/hist-1950/r1i1p1f1/6hrPlevPt/ta/gn/v20180606/'\n",
    "    'ta_6hrPlevPt_MPI-ESM1-2-XR_hist-1950_r1i1p1f1_gn_195001010558-195012312358.nc',\n",
    "    '/badc/cmip6/data/CMIP6/HighResMIP/MOHC/HadGEM3-GC31-HM/hist-1950/r1i1p1f1/E3hrPt/ta/gn/v20180730/'\n",
    "    'ta_E3hrPt_HadGEM3-GC31-HM_hist-1950_r1i1p1f1_gn_195001010300-195001302100.nc',\n",
    "]"
   ]
  },
  {
   "cell_type": "code",
   "execution_count": 3,
   "metadata": {},
   "outputs": [
    {
     "name": "stdout",
     "output_type": "stream",
     "text": [
      "ta_Eday_AWI-CM-1-1-HR_hist-1950_r1i1p1f2_gn_19510101-19511231.nc 3.0 bytes/point\n",
      "ta_6hrPlevPt_CMCC-CM2-VHR4_hist-1950_r1i1p1f1_gn_195001010000-195001311800.nc 2.1 bytes/point\n",
      "ta_6hrPlevPt_CNRM-CM6-1-HR_hist-1950_r1i1p1f2_gr_195001010600-195004010000.nc 1.9 bytes/point\n",
      "ta_6hrPlevPt_EC-Earth3P-HR_hist-1950_r1i1p2f1_gr_195001010000-195012311800.nc 2.2 bytes/point\n",
      "ta_6hrPlevPt_ECMWF-IFS-HR_hist-1950_r1i1p1f1_gr_195001010000-195001311800.nc 1.5 bytes/point\n",
      "ta_6hrPlevPt_MPI-ESM1-2-XR_hist-1950_r1i1p1f1_gn_195001010558-195012312358.nc 1.5 bytes/point\n",
      "ta_E3hrPt_HadGEM3-GC31-HM_hist-1950_r1i1p1f1_gn_195001010300-195001302100.nc 1.7 bytes/point\n"
     ]
    }
   ],
   "source": [
    "for filepath in filepaths:\n",
    "    size = os.stat(filepath).st_size\n",
    "    cube = iris.load_cube(filepath)\n",
    "    dim_sizes = []\n",
    "    for dim_coord in cube.dim_coords:\n",
    "        dim_sizes.append(dim_coord.shape[0])\n",
    "    num_points = 1\n",
    "    for dim in dim_sizes:\n",
    "        num_points *= dim\n",
    "    density = size / num_points\n",
    "    print(f'{os.path.basename(filepath)} {density:.1f} bytes/point')"
   ]
  },
  {
   "cell_type": "markdown",
   "metadata": {},
   "source": [
    "## Precip ##\n",
    "\n",
    "Precip should compress less than temperature"
   ]
  },
  {
   "cell_type": "code",
   "execution_count": 4,
   "metadata": {},
   "outputs": [],
   "source": [
    "filepaths = [\n",
    "    '/gws/nopw/j04/primavera5/stream1/CMIP6/HighResMIP/AWI/AWI-CM-1-1-HR/hist-1950/r1i1p1f2/3hr/pr/gn/v20171119/'\n",
    "    'pr_3hr_AWI-CM-1-1-HR_hist-1950_r1i1p1f2_gn_195101010130-195112312230.nc',\n",
    "    '/gws/nopw/j04/primavera5/stream1/PRIMAVERA/HighResMIP/CMCC/CMCC-CM2-VHR4/hist-1950/r1i1p1f1/Prim6hr/pr/gn/v20180705/'\n",
    "    'pr_Prim6hr_CMCC-CM2-VHR4_hist-1950_r1i1p1f1_gn_195001010000-195001311800.nc',\n",
    "    '/badc/cmip6/data/CMIP6/HighResMIP/CNRM-CERFACS/CNRM-CM6-1-HR/hist-1950/r1i1p1f2/3hr/pr/gr/v20190221/'\n",
    "    'pr_3hr_CNRM-CM6-1-HR_hist-1950_r1i1p1f2_gr_195001010130-195012312230.nc',\n",
    "    '/badc/cmip6/data/CMIP6/HighResMIP/EC-Earth-Consortium/EC-Earth3P-HR/hist-1950/r1i1p2f1/3hr/pr/gr/v20181212/'\n",
    "    'pr_3hr_EC-Earth3P-HR_hist-1950_r1i1p2f1_gr_195001010000-195012312100.nc',\n",
    "    '/gws/nopw/j04/primavera5/stream1/PRIMAVERA/HighResMIP/ECMWF/ECMWF-IFS-HR/hist-1950/r1i1p1f1/Prim6hr/pr/gr/v20170915/'\n",
    "    'pr_Prim6hr_ECMWF-IFS-HR_hist-1950_r1i1p1f1_gr_195001010300-195012312100.nc',\n",
    "    '/gws/nopw/j04/primavera4/stream1/PRIMAVERA/HighResMIP/MPI-M/MPI-ESM1-2-XR/hist-1950/r1i1p1f1/Prim6hr/pr/gn/v20180606/'\n",
    "    'pr_Prim6hr_MPI-ESM1-2-XR_hist-1950_r1i1p1f1_gn_195001010558-195012312358.nc',\n",
    "    '/badc/cmip6/data/CMIP6/HighResMIP/MOHC/HadGEM3-GC31-HM/hist-1950/r1i1p1f1/3hr/pr/gn/v20180730/'\n",
    "    'pr_3hr_HadGEM3-GC31-HM_hist-1950_r1i1p1f1_gn_195001010130-195006302230.nc'\n",
    "]"
   ]
  },
  {
   "cell_type": "code",
   "execution_count": 5,
   "metadata": {},
   "outputs": [
    {
     "name": "stdout",
     "output_type": "stream",
     "text": [
      "pr_3hr_AWI-CM-1-1-HR_hist-1950_r1i1p1f2_gn_195101010130-195112312230.nc 3.8 bytes/point\n",
      "pr_Prim6hr_CMCC-CM2-VHR4_hist-1950_r1i1p1f1_gn_195001010000-195001311800.nc 3.2 bytes/point\n",
      "pr_3hr_CNRM-CM6-1-HR_hist-1950_r1i1p1f2_gr_195001010130-195012312230.nc 3.1 bytes/point\n",
      "pr_3hr_EC-Earth3P-HR_hist-1950_r1i1p2f1_gr_195001010000-195012312100.nc 2.2 bytes/point\n",
      "pr_Prim6hr_ECMWF-IFS-HR_hist-1950_r1i1p1f1_gr_195001010300-195012312100.nc 1.6 bytes/point\n",
      "pr_Prim6hr_MPI-ESM1-2-XR_hist-1950_r1i1p1f1_gn_195001010558-195012312358.nc 2.1 bytes/point\n",
      "pr_3hr_HadGEM3-GC31-HM_hist-1950_r1i1p1f1_gn_195001010130-195006302230.nc 3.1 bytes/point\n"
     ]
    }
   ],
   "source": [
    "for filepath in filepaths:\n",
    "    size = os.stat(filepath).st_size\n",
    "    cube = iris.load_cube(filepath)\n",
    "    dim_sizes = []\n",
    "    for dim_coord in cube.dim_coords:\n",
    "        dim_sizes.append(dim_coord.shape[0])\n",
    "    num_points = 1\n",
    "    for dim in dim_sizes:\n",
    "        num_points *= dim\n",
    "    density = size / num_points\n",
    "    print(f'{os.path.basename(filepath)} {density:.1f} bytes/point')"
   ]
  },
  {
   "cell_type": "code",
   "execution_count": null,
   "metadata": {},
   "outputs": [],
   "source": []
  }
 ],
 "metadata": {
  "kernelspec": {
   "display_name": "Python 3 + Jaspy",
   "language": "python",
   "name": "jaspy"
  },
  "language_info": {
   "codemirror_mode": {
    "name": "ipython",
    "version": 3
   },
   "file_extension": ".py",
   "mimetype": "text/x-python",
   "name": "python",
   "nbconvert_exporter": "python",
   "pygments_lexer": "ipython3",
   "version": "3.7.1"
  }
 },
 "nbformat": 4,
 "nbformat_minor": 4
}
