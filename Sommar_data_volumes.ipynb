{
 "cells": [
  {
   "cell_type": "markdown",
   "metadata": {},
   "source": [
    "# SOMMAR Data Volume Estimates from PRIMAVERA"
   ]
  },
  {
   "cell_type": "code",
   "execution_count": 1,
   "metadata": {},
   "outputs": [],
   "source": [
    "import django\n",
    "django.setup()\n",
    "from django.db.models import Sum\n",
    "from pdata_app.models import DataRequest, DataFile\n",
    "from pdata_app.utils.common import filter_hadgem_stream2, get_request_size"
   ]
  },
  {
   "cell_type": "code",
   "execution_count": 2,
   "metadata": {},
   "outputs": [],
   "source": [
    "def filesizeformat(num_bytes, human_units=True):\n",
    "    \"\"\"\n",
    "    If human_units then output data volumes with units, but with the non-breaking space removed.\n",
    "    \"\"\"\n",
    "    if human_units:\n",
    "        return django.template.defaultfilters.filesizeformat(num_bytes).replace('\\xa0', ' ')\n",
    "    else:\n",
    "        return num_bytes"
   ]
  },
  {
   "cell_type": "markdown",
   "metadata": {},
   "source": [
    "### Total data volume for a Stream 2 MOHC experiment"
   ]
  },
  {
   "cell_type": "markdown",
   "metadata": {},
   "source": [
    "The PRIMAVERA Stream 2 data request was cut down from the Stream 1 request so that only the high frequency variables required for the user facing work packages were output. The output of daily variables on atmosphere levels was also reduced. The Stream 2 data request is summarised at https://doi.org/10.5281/zenodo.3607328."
   ]
  },
  {
   "cell_type": "code",
   "execution_count": 3,
   "metadata": {},
   "outputs": [],
   "source": [
    "hist_reqs = filter_hadgem_stream2(\n",
    "    DataRequest.objects.filter(\n",
    "        climate_model__short_name='HadGEM3-GC31-HH',\n",
    "        experiment__short_name='hist-1950',\n",
    "        rip_code='r1i1p1f1',\n",
    "        datafile__isnull=False\n",
    "    )\n",
    ")\n",
    "ocean_table_names = ['Oday', 'PrimOday', 'PrimSIday', 'SIday',\n",
    "                     'Omon', 'PrimOmon', 'SImon']"
   ]
  },
  {
   "cell_type": "markdown",
   "metadata": {},
   "source": [
    "The following variables were output (along with their dimensions):"
   ]
  },
  {
   "cell_type": "code",
   "execution_count": 4,
   "metadata": {},
   "outputs": [
    {
     "name": "stdout",
     "output_type": "stream",
     "text": [
      "3hr_pr                         (longitude latitude time)\n",
      "3hr_rsds                       (longitude latitude time)\n",
      "3hr_rsdsdiff                   (longitude latitude time)\n",
      "3hr_tas                        (longitude latitude time1)\n",
      "3hr_uas                        (longitude latitude time1)\n",
      "3hr_vas                        (longitude latitude time1)\n",
      "E3hr_psl                       (longitude latitude time)\n",
      "E3hrPt_ua7h                    (longitude latitude plev7h time1)\n",
      "E3hrPt_va7h                    (longitude latitude plev7h time1)\n",
      "Prim3hr_sfcWind                (longitude latitude height10m time)\n",
      "Prim3hr_sfcWindmax             (longitude latitude height10m time)\n",
      "Prim3hrPt_ua100m               (longitude latitude height100m time1)\n",
      "Prim3hrPt_ua50m                (longitude latitude height50m time1)\n",
      "Prim3hrPt_va100m               (longitude latitude height100m time1)\n",
      "Prim3hrPt_va50m                (longitude latitude height50m time1)\n",
      "Prim3hrPt_zg7h                 (longitude latitude plev7h time1)\n",
      "Prim6hr_wsgmax                 (longitude latitude height10m time)\n",
      "CFday_ps                       (longitude latitude time)\n",
      "day_clt                        (longitude latitude time)\n",
      "day_hfls                       (longitude latitude time)\n",
      "day_hfss                       (longitude latitude time)\n",
      "day_hur                        (longitude latitude plev8 time)\n",
      "day_hurs                       (longitude latitude time)\n",
      "day_hursmax                    (longitude latitude time)\n",
      "day_hursmin                    (longitude latitude time)\n",
      "day_hus                        (longitude latitude plev8 time)\n",
      "day_huss                       (longitude latitude time)\n",
      "day_mrro                       (longitude latitude time)\n",
      "day_mrsos                      (longitude latitude time)\n",
      "day_pr                         (longitude latitude time)\n",
      "day_prc                        (longitude latitude time)\n",
      "day_prsn                       (longitude latitude time)\n",
      "day_psl                        (longitude latitude time)\n",
      "day_rlds                       (longitude latitude time)\n",
      "day_rlus                       (longitude latitude time)\n",
      "day_rlut                       (longitude latitude time)\n",
      "day_rsds                       (longitude latitude time)\n",
      "day_rsus                       (longitude latitude time)\n",
      "day_sfcWind                    (longitude latitude time)\n",
      "day_sfcWindmax                 (longitude latitude time)\n",
      "day_ta                         (longitude latitude plev8 time)\n",
      "day_tas                        (longitude latitude time)\n",
      "day_tasmax                     (longitude latitude time)\n",
      "day_tasmin                     (longitude latitude time)\n",
      "day_ua                         (longitude latitude plev8 time)\n",
      "day_uas                        (longitude latitude time)\n",
      "day_va                         (longitude latitude plev8 time)\n",
      "day_vas                        (longitude latitude time)\n",
      "day_wap                        (longitude latitude plev8 time)\n",
      "Eday_parasolRefl               (longitude latitude sza5 time)\n",
      "Eday_tauu                      (longitude latitude time)\n",
      "Eday_tauv                      (longitude latitude time)\n",
      "EdayZ_epfz                     (latitude plev39 time)\n",
      "EdayZ_utendnogw                (latitude plev39 time)\n",
      "EdayZ_utendogw                 (latitude plev39 time)\n",
      "EdayZ_vtem                     (latitude plev39 time)\n",
      "EdayZ_wtem                     (latitude plev39 time)\n",
      "EdayZ_zg                       (latitude plev19 time)\n",
      "Oday_sos                       (longitude latitude time)\n",
      "Oday_tos                       (longitude latitude time)\n",
      "Oday_tossq                     (longitude latitude time)\n",
      "Primday_evspsbl                (longitude latitude time)\n",
      "Primday_hus23                  (longitude latitude plev23 time)\n",
      "Primday_mrlsl                  (longitude latitude sdepth time)\n",
      "Primday_prmax                  (longitude latitude time  )\n",
      "Primday_prmin                  (longitude latitude time  )\n",
      "Primday_ta23                   (longitude latitude plev23 time)\n",
      "Primday_ts                     (longitude latitude time)\n",
      "Primday_ua23                   (longitude latitude plev23 time)\n",
      "Primday_uneutrals              (longitude latitude time)\n",
      "Primday_va23                   (longitude latitude plev23 time)\n",
      "Primday_vneutrals              (longitude latitude time)\n",
      "Primday_wap23                  (longitude latitude plev23 time)\n",
      "Primday_zg23                   (longitude latitude plev23 time)\n",
      "PrimdayPt_ua                   (longitude latitude plev19 time1)\n",
      "PrimdayPt_va                   (longitude latitude plev19 time1)\n",
      "PrimOday_mlotst                (longitude latitude time)\n",
      "PrimOday_tauuo                 (longitude latitude time)\n",
      "PrimOday_tauvo                 (longitude latitude time)\n",
      "PrimOday_uo                    (longitude latitude olevel time)\n",
      "PrimOday_vo                    (longitude latitude olevel time)\n",
      "PrimOday_zos                   (longitude latitude time)\n",
      "PrimSIday_sidivvel             (longitude latitude time1)\n",
      "PrimSIday_siforceintstrx       (longitude latitude time)\n",
      "PrimSIday_siforceintstry       (longitude latitude time)\n",
      "PrimSIday_sistrxdtop           (longitude latitude time)\n",
      "PrimSIday_sistrxubot           (longitude latitude time)\n",
      "PrimSIday_sistrydtop           (longitude latitude time)\n",
      "PrimSIday_sistryubot           (longitude latitude time)\n",
      "PrimSIday_sitimefrac           (longitude latitude time)\n",
      "SIday_siconc                   (longitude latitude time)\n",
      "SIday_sithick                  (longitude latitude time)\n",
      "SIday_siu                      (longitude latitude time)\n",
      "SIday_siv                      (longitude latitude time)\n",
      "AERmon_reffclwtop              (longitude latitude time)\n",
      "Amon_ccb                       (longitude latitude time)\n",
      "Amon_cct                       (longitude latitude time)\n",
      "Amon_ci                        (longitude latitude time)\n",
      "Amon_cl                        (longitude latitude alevel time)\n",
      "Amon_cli                       (longitude latitude alevel time)\n",
      "Amon_clt                       (longitude latitude time)\n",
      "Amon_clw                       (longitude latitude alevel time)\n",
      "Amon_evspsbl                   (longitude latitude time)\n",
      "Amon_hfls                      (longitude latitude time)\n",
      "Amon_hfss                      (longitude latitude time)\n",
      "Amon_hur                       (longitude latitude plev19 time)\n",
      "Amon_hurs                      (longitude latitude time)\n",
      "Amon_hus                       (longitude latitude plev19 time)\n",
      "Amon_huss                      (longitude latitude time)\n",
      "Amon_pfull                     (longitude latitude alevel time2)\n",
      "Amon_phalf                     (longitude latitude alevhalf time2)\n",
      "Amon_pr                        (longitude latitude time)\n",
      "Amon_prc                       (longitude latitude time)\n",
      "Amon_prsn                      (longitude latitude time)\n",
      "Amon_prw                       (longitude latitude time)\n",
      "Amon_ps                        (longitude latitude time)\n",
      "Amon_psl                       (longitude latitude time)\n",
      "Amon_rlds                      (longitude latitude time)\n",
      "Amon_rldscs                    (longitude latitude time)\n",
      "Amon_rlus                      (longitude latitude time)\n",
      "Amon_rlut                      (longitude latitude time)\n",
      "Amon_rlutcs                    (longitude latitude time)\n",
      "Amon_rsds                      (longitude latitude time)\n",
      "Amon_rsdscs                    (longitude latitude time)\n",
      "Amon_rsdt                      (longitude latitude time)\n",
      "Amon_rsus                      (longitude latitude time)\n",
      "Amon_rsuscs                    (longitude latitude time)\n",
      "Amon_rsut                      (longitude latitude time)\n",
      "Amon_rsutcs                    (longitude latitude time)\n",
      "Amon_sbl                       (longitude latitude time)\n",
      "Amon_sci                       (longitude latitude time)\n",
      "Amon_sfcWind                   (longitude latitude time)\n",
      "Amon_ta                        (longitude latitude plev19 time)\n",
      "Amon_tas                       (longitude latitude time)\n",
      "Amon_tauu                      (longitude latitude time)\n",
      "Amon_tauv                      (longitude latitude time)\n",
      "Amon_ts                        (longitude latitude time)\n",
      "Amon_ua                        (longitude latitude plev19 time)\n",
      "Amon_uas                       (longitude latitude time)\n",
      "Amon_va                        (longitude latitude plev19 time)\n",
      "Amon_vas                       (longitude latitude time)\n",
      "Amon_wap                       (longitude latitude plev19 time)\n",
      "Amon_zg                        (longitude latitude plev19 time)\n",
      "CFmon_albisccp                 (longitude latitude time)\n",
      "CFmon_cltcalipso               (longitude latitude time)\n",
      "CFmon_cltisccp                 (longitude latitude time)\n",
      "CFmon_hur                      (longitude latitude alevel time)\n",
      "CFmon_hus                      (longitude latitude alevel time)\n",
      "CFmon_pctisccp                 (longitude latitude time)\n",
      "CFmon_rld                      (longitude latitude alevhalf time)\n",
      "CFmon_rldcs                    (longitude latitude alevhalf time)\n",
      "CFmon_rlu                      (longitude latitude alevhalf time)\n",
      "CFmon_rlucs                    (longitude latitude alevhalf time)\n",
      "CFmon_rsd                      (longitude latitude alevhalf time)\n",
      "CFmon_rsdcs                    (longitude latitude alevhalf time)\n",
      "CFmon_rsu                      (longitude latitude alevhalf time)\n",
      "CFmon_rsucs                    (longitude latitude alevhalf time)\n",
      "CFmon_ta                       (longitude latitude alevel time)\n",
      "Emon_parasolRefl               (longitude latitude sza5 time)\n",
      "Emon_uqint                     (longitude latitude time)\n",
      "Emon_vqint                     (longitude latitude time)\n",
      "EmonZ_epfz                     (latitude plev39 time)\n",
      "EmonZ_vtem                     (latitude plev39 time)\n",
      "EmonZ_wtem                     (latitude plev39 time)\n",
      "Lmon_evspsblsoi                (longitude latitude time)\n",
      "Lmon_evspsblveg                (longitude latitude time)\n",
      "Lmon_gpp                       (longitude latitude time)\n",
      "Lmon_mrlsl                     (longitude latitude sdepth time)\n",
      "Lmon_mrro                      (longitude latitude time)\n",
      "Lmon_mrros                     (longitude latitude time)\n",
      "Lmon_npp                       (longitude latitude time)\n",
      "Lmon_ra                        (longitude latitude time)\n",
      "Lmon_rh                        (longitude latitude time)\n",
      "Lmon_tsl                       (longitude latitude sdepth time)\n",
      "Omon_agessc                    (longitude latitude olevel time)\n",
      "Omon_ficeberg                  (longitude latitude olevel time)\n",
      "Omon_friver                    (longitude latitude time)\n",
      "Omon_hfds                      (longitude latitude time)\n",
      "Omon_hfrainds                  (longitude latitude time)\n",
      "Omon_masscello                 (longitude latitude olevel time)\n",
      "Omon_mlotst                    (longitude latitude time)\n",
      "Omon_mlotstsq                  (longitude latitude time)\n",
      "Omon_pbo                       (longitude latitude time)\n",
      "Omon_rsdo                      (longitude latitude olevel time)\n",
      "Omon_so                        (longitude latitude olevel time)\n",
      "Omon_sos                       (longitude latitude time)\n",
      "Omon_tauuo                     (longitude latitude time)\n",
      "Omon_tauvo                     (longitude latitude time)\n",
      "Omon_thetao                    (longitude latitude olevel time)\n",
      "Omon_thkcello                  (longitude latitude olevel time)\n",
      "Omon_tos                       (longitude latitude time)\n",
      "Omon_tossq                     (longitude latitude time)\n",
      "Omon_umo                       (longitude latitude olevel time)\n",
      "Omon_uo                        (longitude latitude olevel time)\n",
      "Omon_vmo                       (longitude latitude olevel time)\n",
      "Omon_vo                        (longitude latitude olevel time)\n",
      "Omon_wmo                       (longitude latitude olevel time)\n",
      "Omon_zfullo                    (longitude latitude olevel time)\n",
      "Omon_zos                       (longitude latitude time)\n",
      "Omon_zossq                     (longitude latitude time)\n",
      "PrimmonZ_ua                    (latitude plev39 time)\n",
      "PrimmonZ_va                    (latitude plev39 time  )\n",
      "PrimmonZ_vstarbar              (latitude plev39 time)\n",
      "PrimmonZ_wstarbar              (latitude plev39 time)\n",
      "PrimmonZ_xnonoroggwdparam      (latitude plev39 time)\n",
      "PrimmonZ_zg                    (latitude plev39 time  )\n",
      "PrimOmon_somint                (longitude latitude time)\n",
      "PrimOmon_u2o                   (longitude latitude olevel time)\n",
      "PrimOmon_uso                   (longitude latitude olevel time)\n",
      "PrimOmon_uto                   (longitude latitude olevel time)\n",
      "PrimOmon_v2o                   (longitude latitude olevel time)\n",
      "PrimOmon_vso                   (longitude latitude olevel time)\n",
      "PrimOmon_vto                   (longitude latitude olevel time)\n",
      "PrimOmon_wo                    (longitude latitude olevel time)\n",
      "SImon_siage                    (longitude latitude time)\n",
      "SImon_siconc                   (longitude latitude time)\n",
      "SImon_sidivvel                 (longitude latitude time1)\n",
      "SImon_sidmassdyn               (longitude latitude time)\n",
      "SImon_sidmassmeltbot           (longitude latitude time)\n",
      "SImon_sidmassmelttop           (longitude latitude time)\n",
      "SImon_sidmassth                (longitude latitude time)\n",
      "SImon_siflcondbot              (longitude latitude time)\n",
      "SImon_siflcondtop              (longitude latitude time)\n",
      "SImon_siflfwbot                (longitude latitude time)\n",
      "SImon_siflfwdrain              (longitude latitude time)\n",
      "SImon_sifllatstop              (longitude latitude time)\n",
      "SImon_sifllwdtop               (longitude latitude time)\n",
      "SImon_sifllwutop               (longitude latitude time)\n",
      "SImon_siflsaltbot              (longitude latitude time)\n",
      "SImon_siflsenstop              (longitude latitude time)\n",
      "SImon_siflsensupbot            (longitude latitude time)\n",
      "SImon_siflswdtop               (longitude latitude time)\n",
      "SImon_siflswutop               (longitude latitude time)\n",
      "SImon_sihc                     (longitude latitude time)\n",
      "SImon_simass                   (longitude latitude time)\n",
      "SImon_sipr                     (longitude latitude time)\n",
      "SImon_sisnconc                 (longitude latitude time)\n",
      "SImon_sisnhc                   (longitude latitude time)\n",
      "SImon_sisnmass                 (longitude latitude time)\n",
      "SImon_sisnthick                (longitude latitude time)\n",
      "SImon_sispeed                  (longitude latitude time)\n",
      "SImon_sistrxdtop               (longitude latitude time)\n",
      "SImon_sistrxubot               (longitude latitude time)\n",
      "SImon_sistrydtop               (longitude latitude time)\n",
      "SImon_sistryubot               (longitude latitude time)\n",
      "SImon_sitempbot                (longitude latitude time)\n",
      "SImon_sitemptop                (longitude latitude time)\n",
      "SImon_sithick                  (longitude latitude time)\n",
      "SImon_sitimefrac               (longitude latitude time)\n",
      "SImon_siu                      (longitude latitude time)\n",
      "SImon_siv                      (longitude latitude time)\n",
      "SImon_sivol                    (longitude latitude time)\n"
     ]
    }
   ],
   "source": [
    "for dr in hist_reqs.order_by('variable_request__frequency', 'variable_request__table_name', \n",
    "                             'variable_request__cmor_name'):\n",
    "    var_string = f'{dr.variable_request.table_name}_{dr.variable_request.cmor_name}'\n",
    "    print(f'{var_string:<30} ({dr.variable_request.dimensions})')"
   ]
  },
  {
   "cell_type": "markdown",
   "metadata": {},
   "source": [
    "For SOMMAR, this data request would require the addition of a variable for each ocean biogeochemistry tracer on olevels."
   ]
  },
  {
   "cell_type": "markdown",
   "metadata": {},
   "source": [
    "The data volume for 65 years for the 25 km atmosphere and 1/12° ocean is:"
   ]
  },
  {
   "cell_type": "code",
   "execution_count": 5,
   "metadata": {},
   "outputs": [
    {
     "name": "stdout",
     "output_type": "stream",
     "text": [
      "25 km atmosphere 18.7 TB\n",
      "1/12° ocean 29.1 TB\n",
      "total 47.8 TB\n"
     ]
    }
   ],
   "source": [
    "atmos_reqs = hist_reqs.exclude(variable_request__table_name__in=ocean_table_names)\n",
    "n512_atmos_size = get_request_size(atmos_reqs, 1950, 2014)\n",
    "print(f'25 km atmosphere {filesizeformat(n512_atmos_size)}')\n",
    "ocean_reqs = hist_reqs.filter(variable_request__table_name__in=ocean_table_names)\n",
    "ocean_size = get_request_size(ocean_reqs, 1950, 2014)\n",
    "print(f'1/12° ocean {filesizeformat(ocean_size)}')\n",
    "print(f'total {filesizeformat(get_request_size(hist_reqs, 1950, 2014))}')"
   ]
  },
  {
   "cell_type": "markdown",
   "metadata": {},
   "source": [
    "However, in PRIMAVERA the Met Office ran an N512 model and in SOMMAR it would like to run an N1280 model. Let's see what effect this has on the data volume for this 65 year simulation:"
   ]
  },
  {
   "cell_type": "code",
   "execution_count": 6,
   "metadata": {},
   "outputs": [
    {
     "name": "stdout",
     "output_type": "stream",
     "text": [
      "10 km atmosphere 116.8 TB\n",
      "1/12° ocean 29.1 TB\n",
      "total 146.0 TB\n"
     ]
    }
   ],
   "source": [
    "n1280_atmos_size = n512_atmos_size * (1280 / 512)**2\n",
    "print(f'10 km atmosphere {filesizeformat(n1280_atmos_size)}')\n",
    "print(f'1/12° ocean {filesizeformat(ocean_size)}')\n",
    "print(f'total {filesizeformat(n1280_atmos_size + ocean_size)}')"
   ]
  },
  {
   "cell_type": "markdown",
   "metadata": {},
   "source": [
    "## Data volume per year"
   ]
  },
  {
   "cell_type": "markdown",
   "metadata": {},
   "source": [
    "SOMMAR will have longer runs and so the data volume per year will be:"
   ]
  },
  {
   "cell_type": "code",
   "execution_count": 7,
   "metadata": {},
   "outputs": [
    {
     "name": "stdout",
     "output_type": "stream",
     "text": [
      "atmosphere per year 1.8 TB\n",
      "ocean per year 458.9 GB\n",
      "total per year 2.2 TB\n"
     ]
    }
   ],
   "source": [
    "n1280_per_year = n1280_atmos_size / 65\n",
    "print(f'atmosphere per year {filesizeformat(n1280_per_year)}')\n",
    "ocean_per_year = ocean_size / 65\n",
    "print(f'ocean per year {filesizeformat(ocean_per_year)}')\n",
    "total_per_year = n1280_per_year + ocean_per_year\n",
    "print(f'total per year {filesizeformat(total_per_year)}')"
   ]
  },
  {
   "cell_type": "markdown",
   "metadata": {},
   "source": [
    "For a possible run length of 650 years (200 spinup, 200 piControl and 250 historical + future):"
   ]
  },
  {
   "cell_type": "code",
   "execution_count": 8,
   "metadata": {},
   "outputs": [
    {
     "name": "stdout",
     "output_type": "stream",
     "text": [
      "atmosphere 1.1 PB\n",
      "ocean 291.3 TB\n",
      "total 1.4 PB\n"
     ]
    }
   ],
   "source": [
    "print(f'atmosphere {filesizeformat(650 * n1280_per_year)}')\n",
    "print(f'ocean {filesizeformat(650 * ocean_per_year)}')\n",
    "print(f'total {filesizeformat(650 * total_per_year)}')"
   ]
  },
  {
   "cell_type": "markdown",
   "metadata": {},
   "source": [
    "## Data Volume for a surface variable"
   ]
  },
  {
   "cell_type": "code",
   "execution_count": 9,
   "metadata": {},
   "outputs": [
    {
     "name": "stdout",
     "output_type": "stream",
     "text": [
      "65 years of a suface variable at N1280 6.2 GB\n",
      "650 years of a suface variable at N1280 62.5 GB\n"
     ]
    }
   ],
   "source": [
    "amon_tas = DataRequest.objects.filter(\n",
    "    climate_model__short_name='HadGEM3-GC31-HH',\n",
    "    experiment__short_name='hist-1950',\n",
    "    rip_code='r1i1p1f1',\n",
    "    variable_request__table_name='Amon',\n",
    "    variable_request__cmor_name='tas'\n",
    ")\n",
    "\n",
    "n1280_size = get_request_size(amon_tas, 1950, 2014) * (1280 / 512)**2\n",
    "print(f'65 years of a suface variable at N1280 {filesizeformat(n1280_size)}')\n",
    "n1280_650years_size = n1280_size / 65 * 650\n",
    "print(f'650 years of a suface variable at N1280 {filesizeformat(n1280_650years_size)}')\n"
   ]
  },
  {
   "cell_type": "markdown",
   "metadata": {},
   "source": [
    "Therefore how to analyse the data needs to be considered as the time series for a variable on a single level will be over 60 GB in size. Many post-processing systems won't have this much RAM available to them."
   ]
  },
  {
   "cell_type": "markdown",
   "metadata": {},
   "source": [
    "## Data volume per time slice"
   ]
  },
  {
   "cell_type": "markdown",
   "metadata": {},
   "source": [
    "To allow the estimation of SOMMAR volumes we can calculate the storage required by a single atmosphere and ocean time slice."
   ]
  },
  {
   "cell_type": "code",
   "execution_count": 10,
   "metadata": {},
   "outputs": [
    {
     "name": "stdout",
     "output_type": "stream",
     "text": [
      "tas_Amon_HadGEM3-GC31-HH_hist-1950_r1i1p1f1_gn_195001-195012.nc 15.8 MB\n",
      "tos_Omon_HadGEM3-GC31-HH_hist-1950_r1i1p1f1_gn_195001-195001.nc 163.7 MB\n",
      "vo_Omon_HadGEM3-GC31-HH_hist-1950_r1i1p1f1_gn_195001-195001.nc 1.6 GB\n",
      "\n",
      "10 km atmos single level single time slice 8.2 MB\n",
      "1/12° ocean surface single time slice 163.7 MB\n",
      "1/12° ocean single level single time slice 22.4 MB\n"
     ]
    }
   ],
   "source": [
    "atmos_filename = 'tas_Amon_HadGEM3-GC31-HH_hist-1950_r1i1p1f1_gn_195001-195012.nc'\n",
    "atmos_file = DataFile.objects.get(name=atmos_filename)\n",
    "print(f'{atmos_filename} {filesizeformat(atmos_file.size)}')\n",
    "\n",
    "ocean_surface_filename = 'tos_Omon_HadGEM3-GC31-HH_hist-1950_r1i1p1f1_gn_195001-195001.nc'\n",
    "ocean_surface_file = DataFile.objects.get(name=ocean_surface_filename)\n",
    "print(f'{ocean_surface_filename} {filesizeformat(ocean_surface_file.size)}')\n",
    "\n",
    "ocean_filename = 'vo_Omon_HadGEM3-GC31-HH_hist-1950_r1i1p1f1_gn_195001-195001.nc'\n",
    "ocean_file = DataFile.objects.get(name=ocean_filename)\n",
    "print(f'{ocean_filename} {filesizeformat(ocean_file.size)}')\n",
    "print('')\n",
    "\n",
    "sommar_atmos_filesize = (1280 / 512)**2 * atmos_file.size\n",
    "sommar_atmos_step_size = sommar_atmos_filesize / 12  # 12 months in the file\n",
    "print(f'10 km atmos single level single time slice {filesizeformat(sommar_atmos_step_size)}')\n",
    "\n",
    "ocean_surface_step_size = ocean_surface_file.size # single time point\n",
    "print(f'1/12° ocean surface single time slice {filesizeformat(ocean_surface_step_size)}')\n",
    "\n",
    "ocean_step_size = ocean_file.size / 75  # on 75 olevels\n",
    "print(f'1/12° ocean single level single time slice {filesizeformat(ocean_step_size)}')"
   ]
  },
  {
   "cell_type": "markdown",
   "metadata": {},
   "source": [
    "These values seem quite surprising as there are 3606x4322 points in the ocean file and around 1920x2560 points in the 10 km atmosphere file. However, there is data on all points in the atmosphere but there's only data on the ocean points in the ocean file (47% of points are masked at the surface and 100% are at the bottom layer). The compression used will save space for these masked points. With only a single time point in the ocean surface file, two-thirds of the data will be latitudes and longitudes. Ocean surface storage would have been more efficient if more time points were included in each file. "
   ]
  },
  {
   "cell_type": "markdown",
   "metadata": {},
   "source": [
    "Lots of effort needs to go into working out the most efficient way to store the data in SOMMAR!"
   ]
  }
 ],
 "metadata": {
  "kernelspec": {
   "display_name": "Python 3",
   "language": "python",
   "name": "python3"
  },
  "language_info": {
   "codemirror_mode": {
    "name": "ipython",
    "version": 3
   },
   "file_extension": ".py",
   "mimetype": "text/x-python",
   "name": "python",
   "nbconvert_exporter": "python",
   "pygments_lexer": "ipython3",
   "version": "3.6.7"
  }
 },
 "nbformat": 4,
 "nbformat_minor": 4
}
