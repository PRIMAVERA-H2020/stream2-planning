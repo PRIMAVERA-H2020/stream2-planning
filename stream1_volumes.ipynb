{
 "cells": [
  {
   "cell_type": "markdown",
   "metadata": {},
   "source": [
    "(C) Crown Copyright, Met Office. All rights reserved."
   ]
  },
  {
   "cell_type": "markdown",
   "metadata": {},
   "source": [
    "## stream1_volumes.ipynb\n",
    "\n",
    "Calulate the volumes used by the Stream 1 highresSST-present atmosphere only simulations"
   ]
  },
  {
   "cell_type": "code",
   "execution_count": 1,
   "metadata": {},
   "outputs": [],
   "source": [
    "import django\n",
    "django.setup()\n",
    "from django.db.models import Sum\n",
    "from pdata_app.models import DataFile, VariableRequest"
   ]
  },
  {
   "cell_type": "code",
   "execution_count": 2,
   "metadata": {},
   "outputs": [],
   "source": [
    "models = [\n",
    "    # AWI didn't run an AMIP and so use coupled for comparison\n",
    "    ('AWI-CM-1-1-LR', 'hist-1950', 'r1i1p1f002', 6.4),\n",
    "    ('AWI-CM-1-1-HR', 'hist-1950', 'r1i1p1f002', 25.6),\n",
    "    ('CMCC-CM2-HR4', 'highresSST-present', 'r1i1p1f1', 6.4),\n",
    "    ('CMCC-CM2-VHR4', 'highresSST-present', 'r1i1p1f1', 69.6),\n",
    "    ('CNRM-CM6-1', 'highresSST-present', 'r1i1p1f2', 3.2),\n",
    "    ('CNRM-CM6-1-HR', 'highresSST-present', 'r1i1p1f2', 44.8),\n",
    "    ('EC-Earth3P', 'highresSST-present', 'r2i1p1f1', 3.2),\n",
    "    ('EC-Earth3P-HR', 'highresSST-present', 'r2i1p1f1', 44.8),\n",
    "    ('ECMWF-IFS-LR', 'highresSST-present', 'r1i1p1f1', 1.3),\n",
    "    ('ECMWF-IFS-HR', 'highresSST-present', 'r1i1p1f1', 10.2),\n",
    "    ('MPI-ESM1-2-HR', 'highresSST-present', 'r1i1p1f1', 6.6),\n",
    "    ('MPI-ESM1-2-XR', 'highresSST-present', 'r1i1p1f1', 13.1),\n",
    "    ('HadGEM3-GC31-LM', 'highresSST-present', 'r1i1p1f1', 4.5),\n",
    "    ('HadGEM3-GC31-HM', 'highresSST-present', 'r1i1p1f1', 64.0),\n",
    "]"
   ]
  },
  {
   "cell_type": "code",
   "execution_count": 3,
   "metadata": {},
   "outputs": [],
   "source": [
    "def _tib_to_bytes(tib):\n",
    "    \"\"\"Convert a value in TiB to bytes\"\"\"\n",
    "    return tib * 1024**4"
   ]
  },
  {
   "cell_type": "code",
   "execution_count": 4,
   "metadata": {},
   "outputs": [],
   "source": [
    "def _bytes_str(num_bytes):\n",
    "    \"\"\"\n",
    "    Return a value in bytes as a value in TiB as a string\n",
    "    \n",
    "    :param int num_bytes: the number of bytes\n",
    "    :returns: the number of bytes as a string in units of TiB to 1 decimal place\n",
    "    :rtype: str\n",
    "    \"\"\"\n",
    "    return f'{num_bytes / 1024**4:.1f}'"
   ]
  },
  {
   "cell_type": "code",
   "execution_count": 5,
   "metadata": {},
   "outputs": [
    {
     "name": "stdout",
     "output_type": "stream",
     "text": [
      "Model                Actual / Planned\n",
      "AWI-CM-1-1-LR         0.3 /  6.4 TiB\n",
      "AWI-CM-1-1-HR         0.3 / 25.6 TiB\n",
      "CMCC-CM2-HR4          0.8 /  6.4 TiB\n",
      "CMCC-CM2-VHR4        11.6 / 69.6 TiB\n",
      "CNRM-CM6-1            4.3 /  3.2 TiB\n",
      "CNRM-CM6-1-HR        13.1 / 44.8 TiB\n",
      "EC-Earth3P            8.4 /  3.2 TiB\n",
      "EC-Earth3P-HR        32.9 / 44.8 TiB\n",
      "ECMWF-IFS-LR          0.9 /  1.3 TiB\n",
      "ECMWF-IFS-HR          3.3 / 10.2 TiB\n",
      "MPI-ESM1-2-HR         1.5 /  6.6 TiB\n",
      "MPI-ESM1-2-XR         2.8 / 13.1 TiB\n",
      "HadGEM3-GC31-LM       1.8 /  4.5 TiB\n",
      "HadGEM3-GC31-HM      46.4 / 64.0 TiB\n",
      "\n",
      "Stream 1 highresSST-present actual size    46.4 TiB\n",
      "Stream 1 highresSST-present planned size  303.7 TiB\n",
      "Total is 15% of planned\n"
     ]
    }
   ],
   "source": [
    "total_size = 0\n",
    "planned_total = 0\n",
    "print(f\"{'Model':<20} Actual / Planned\")\n",
    "for model in models:\n",
    "    query = {\n",
    "        'data_request__climate_model__short_name': model[0],\n",
    "        'data_request__experiment__short_name': model[1],\n",
    "        'data_request__rip_code': model[2]\n",
    "    }\n",
    "    datafiles = DataFile.objects.filter(**query).distinct()\n",
    "    model_size = datafiles.aggregate(Sum('size'))['size__sum']\n",
    "    total_size =+ model_size\n",
    "    planned_total += _tib_to_bytes(model[3])\n",
    "    print(f'{model[0]:<20} {_bytes_str(model_size):>4} / {model[3]:>4} TiB')\n",
    "\n",
    "print()\n",
    "print(f'Stream 1 highresSST-present actual size   {_bytes_str(total_size):>5} TiB')\n",
    "print(f'Stream 1 highresSST-present planned size  {_bytes_str(planned_total):>5} TiB')\n",
    "print(f'Total is {total_size / planned_total:.0%} of planned')"
   ]
  }
 ],
 "metadata": {
  "kernelspec": {
   "display_name": "Python 3",
   "language": "python",
   "name": "python3"
  },
  "language_info": {
   "codemirror_mode": {
    "name": "ipython",
    "version": 3
   },
   "file_extension": ".py",
   "mimetype": "text/x-python",
   "name": "python",
   "nbconvert_exporter": "python",
   "pygments_lexer": "ipython3",
   "version": "3.6.7"
  }
 },
 "nbformat": 4,
 "nbformat_minor": 4
}
